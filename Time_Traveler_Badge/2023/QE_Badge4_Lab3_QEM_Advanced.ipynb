{
 "cells": [
  {
   "attachments": {},
   "cell_type": "markdown",
   "id": "8a533677",
   "metadata": {
    "tags": []
   },
   "source": [
    "#### **Quantum Explorers 2023**\n",
    "---\n",
    "# Time Traveler Badge - Quantum Error Correction & Mitigation Module\n",
    "#### **Advanced Syllabus - Quantum Error Mitigation Methods and Implementation**\n",
    "Adapted from [IBM Quantum Challenge Fall 2022, Lab 1](https://github.com/qiskit-community/ibm-quantum-challenge-fall-22/tree/main/content/lab-1)"
   ]
  },
  {
   "attachments": {},
   "cell_type": "markdown",
   "id": "b5fd7239-13b4-4796-a498-343767d61498",
   "metadata": {},
   "source": [
    "### T-REX\n",
    "\n",
    "T-REX stands for **Twirled Readout Error eXtinction** which is an implementation which involves \"twirling\" of gates. If we were to view noise as a set of extra probabilistic gates on top of our perfect circuit implementation, twirling is something that can be considered in the sense that every time we execute the circuit, we conjugate this noisy gate set with a gate randomly chosen from a set of gates called as a \"twirling set\". If we are to choose this gate set to be a set of Pauli operators, we can term this as \"Pauli twirling: which is one of the most commonly used twirling techniques available.\n",
    "\n",
    "Pauli twirling is a form of randomized compiling that inserts pairs of Pauli gates (I, X, Y, Z) before and after entangling gates such that the overall unitary is the same, but the way it is implemented is different. This has the effect of turning coherent errors into stochastic errors, which can then be eliminated by sufficient averaging. This is done a number of times for the benefit of averaging. Note: we may not use a sufficient basis set to currently cancel all errors. **[[1]](https://github.com/qiskit-research/qiskit-research/blob/main/docs/getting_started.ipynb)**\n",
    "\n",
    "For more information on Pauli Twirling, watch [this Nick Knows video](https://www.youtube.com/watch?v=4MLHvmmpSQ8).\n",
    "\n",
    "You can use activate T-REX on Estimator by setting `resilience_level=1` in options. T-REX will be active by default on runtime if no `resilience_level` is being specified. You may notice with Qiskit Runtime that the results may change every run when selecting T-REX. This is because the gate set selected for twirling is different everytime which contributes to the random characteristics observed in the result.\n",
    "\n",
    "You can read more about T-REX [here](https://qiskit.org/ecosystem/ibm-runtime/tutorials/Error-Suppression-and-Error-Mitigation.html#Twirled-readout-error-extinction)."
   ]
  },
  {
   "attachments": {},
   "cell_type": "markdown",
   "id": "032e117e-3c43-48f1-9008-83225411b4ce",
   "metadata": {
    "tags": []
   },
   "source": [
    "### Digital ZNE\n",
    "\n",
    "Digital Zero Noise Extrapolation (ZNE) is a popular technique for mitigating errors in noisy quantum computers without the need for additional quantum resources. A quantum program is altered to run at different effect levels of processor noise. The result of the computation is extrapolated to an estimated value at a noiseless level.\n",
    "\n",
    "To find the proper value, Digital ZNE firstly scales noise as explained above. There are two kinds of methods for scaling it: analog and digital. You can check the detailed description of each method below. It is still an active research question around which method is the best to use. Note that the digital way is by not acting on the physical quantum pulses.\n",
    "\n",
    "- Pulse stretching (analog): Applying the same one stretched along a larger amount of time for a circuit - take physical pulses and stretch it in time. In principle its the same circuit - but you are increasing the effective noise. **[[2]](https://arxiv.org/pdf/1612.02058.pdf)**\n",
    "- Local folding (digital): Compiling the input circuit with a larger number of gates. Each gate $G$ is replaced by $G$, $G^\\dagger$, $G$. If you are on a simulator, you do nothing to the circuit. If you use a real device, you can see the increasing noise.\n",
    "- Global folding (digital): Working the same way as local folding - but instead you apply this trick to the full circuit.\n",
    "\n",
    "The noisy expectation values are then extrapolated to the zero-noise limit. This is generally done with general regression methods. \n",
    "\n",
    "You can read more about Digital ZNE [here](https://qiskit.org/ecosystem/ibm-runtime/tutorials/Error-Suppression-and-Error-Mitigation.html#Zero-noise-extrapolation).\n"
   ]
  },
  {
   "attachments": {},
   "cell_type": "markdown",
   "id": "64be824f-5d15-4ac7-bc44-64927f2b5de6",
   "metadata": {},
   "source": [
    "### PEC\n",
    "\n",
    "Probabilistic Error Cancellation (PEC) is an approach that mitigates error by learning and inverting a sparse noise model that is able to capture correlated noise. PEC returns an unbiased estimate of an expectation value so long as learned noise model faithfully represents the actual noise model at the time of mitigation. \n",
    "\n",
    "PEC uses a quasi-probability method to mimic the effect of inverting the learned noise. This requires sampling from a randomized circuit family associated with the user’s original circuit. Applying PEC will increase the variability of the returned expectation value estimates unless the number of samples per circuit is also increased for both input and characterization circuits. The amount of samples required to counter this variability scales exponentially with the noise strength of the mitigated circuit. **[[3]](https://qiskit.org/ecosystem/ibm-runtime/how_to/error-mitigation.html)**\n",
    "\n",
    "You can read more about PEC [here](https://qiskit.org/ecosystem/ibm-runtime/tutorials/Error-Suppression-and-Error-Mitigation.html#Probabilistic-error-cancellation).\n"
   ]
  },
  {
   "attachments": {},
   "cell_type": "markdown",
   "id": "23169b2a-40f1-4bc6-bce8-54728c65f5fc",
   "metadata": {
    "tags": []
   },
   "source": [
    "<div class=\"alert alert-block alert-info\">\n",
    "    \n",
    "<h3>Implementation of Quantum Error Mitigation Techniques</h3>\n",
    "\n",
    "The resilience level in Qiskit runtime is a metric to specify how much resilience to build against errors, and therefore the level of error mitigation. Higher levels generate more accurate results, at the expense of longer processing times. You can activate higher levels of resilience on Qiskit runtime but please do note that **this feature is currently in beta** and the results may not be as expected, but feel free to experiment with them where you are directed below in the code blocks!\n",
    "\n",
    "You may find these resources handy:\n",
    "\n",
    "- [Qiskit Documentation: Options](https://qiskit.org/ecosystem/ibm-runtime/stubs/qiskit_ibm_runtime.options.Options.html)\n",
    "- [Configuring error mitigation](https://qiskit.org/ecosystem/ibm-runtime/how_to/error-mitigation.html)\n",
    "    \n"
   ]
  },
  {
   "cell_type": "code",
   "execution_count": null,
   "id": "4f9ad94a-fed1-48af-864b-300fb08b82e1",
   "metadata": {
    "tags": []
   },
   "outputs": [],
   "source": [
    "#import required libraries\n",
    "import time\n",
    "import numpy as np\n",
    "from qiskit import *\n",
    "from qiskit.circuit import Parameter\n",
    "from qiskit.quantum_info import Statevector, Pauli, SparsePauliOp\n",
    "from qiskit.circuit.library import RealAmplitudes\n",
    "import matplotlib.pyplot as plt\n",
    "import matplotlib.ticker as tck\n",
    "from qiskit.tools.visualization import plot_histogram\n",
    "from qiskit_ibm_runtime import QiskitRuntimeService, Session, Options, Sampler, Estimator\n",
    "from qiskit.providers.fake_provider import FakeManila\n",
    "from qiskit_aer.noise import NoiseModel\n",
    "\n",
    "# Import FakeBackend\n",
    "fake_backend = FakeManila()\n",
    "noise_model = NoiseModel.from_backend(fake_backend)"
   ]
  },
  {
   "cell_type": "code",
   "execution_count": null,
   "id": "1b178af8-3640-4d60-922f-1dacd656681e",
   "metadata": {
    "tags": []
   },
   "outputs": [],
   "source": [
    "# Save the Runtime account credentials if you have not done so already\n",
    "# If you need to overwrite the account info, please add `overwrite=True`\n",
    "# QiskitRuntimeService.save_account(channel='ibm_quantum', token='my_token', overwrite=True)\n",
    "\n",
    "service = QiskitRuntimeService(channel=\"ibm_quantum\", instance='ibm-q/open/main')\n",
    "\n",
    "backend = service.backends(simulator=True)[0]\n",
    "print(backend)"
   ]
  },
  {
   "cell_type": "code",
   "execution_count": null,
   "id": "6bb61fc5-a06d-478e-9e3f-c003427c1d11",
   "metadata": {
    "tags": []
   },
   "outputs": [],
   "source": [
    "# This is the circuit you used in the main syllabus for learning M3\n",
    "theta = Parameter('theta')\n",
    "\n",
    "qc = QuantumCircuit(2)\n",
    "qc.x(1)\n",
    "qc.h(0)\n",
    "qc.cp(theta,0,1)\n",
    "qc.h(0)\n",
    "\n",
    "qc.draw()"
   ]
  },
  {
   "attachments": {},
   "cell_type": "markdown",
   "id": "f07ef407-2918-4a44-9060-f7b5b90c0334",
   "metadata": {},
   "source": [
    "In the next cell, in the line of code as indicated, change the resilience level to any of the values `[1, 2, 3]` and run the Estimator to see how output changes with resilience level"
   ]
  },
  {
   "cell_type": "code",
   "execution_count": null,
   "id": "87ecd033-dda0-4ba4-979f-7294bcbae16c",
   "metadata": {
    "tags": []
   },
   "outputs": [],
   "source": [
    "phases = np.linspace(0, 2*np.pi, 50)\n",
    "individual_phases = [[ph] for ph in phases]\n",
    "ZZ = SparsePauliOp.from_list([(\"ZZ\", 1)])\n",
    "\n",
    "options = Options(\n",
    "    simulator={\n",
    "        \"noise_model\": noise_model,\n",
    "        \"seed_simulator\": 42,\n",
    "    },  \n",
    "    resilience_level=0\n",
    ")\n",
    "\n",
    "options_with_em = Options(\n",
    "    simulator={\n",
    "        \"noise_model\": noise_model,\n",
    "        \"seed_simulator\": 42,\n",
    "    },  \n",
    "    resilience_level=1 ### Change the value in this line ###\n",
    ")"
   ]
  },
  {
   "cell_type": "code",
   "execution_count": null,
   "id": "05414212-af71-4ebf-afc8-260967588399",
   "metadata": {
    "tags": []
   },
   "outputs": [],
   "source": [
    "with Session(service=service, backend=backend):    \n",
    "    estimator = Estimator(options=options)\n",
    "    job = estimator.run(circuits=[qc]*len(phases), parameter_values=individual_phases, observables=[ZZ]*len(phases))\n",
    "    param_results = job.result()\n",
    "    exp_values = param_results.values\n",
    "    \n",
    "    estimator = Estimator(options=options_with_em)\n",
    "    job = estimator.run(circuits=[qc]*len(phases), parameter_values=individual_phases, observables=[ZZ]*len(phases))\n",
    "    param_results = job.result()\n",
    "    exp_values_with_em = param_results.values"
   ]
  },
  {
   "cell_type": "code",
   "execution_count": null,
   "id": "2bd54d85-78b4-481f-9d44-4f8db4092745",
   "metadata": {
    "tags": []
   },
   "outputs": [],
   "source": [
    "plt.plot(phases, exp_values, 'o', label='noisy')\n",
    "plt.plot(phases, exp_values_with_em, 'o', label='mitigated')\n",
    "plt.plot(phases, 2*np.sin(phases/2,)**2-1, label='theory')\n",
    "plt.xlabel('Phase')\n",
    "plt.ylabel('Expectation')\n",
    "plt.legend();"
   ]
  },
  {
   "attachments": {},
   "cell_type": "markdown",
   "id": "7e5af1e1-5a51-48d5-84c2-916a0e8ecb8c",
   "metadata": {},
   "source": [
    "<div class=\"alert alert-block alert-info\">\n",
    "    \n",
    "<h3>Optional: Run the above on a real backend</h3>\n",
    "\n",
    "Feel free to test the above code on a **real quantum backend** to see how the result varies when running on a QPU. For Quantum Explorers, you have a `hub`, `group`, and `project` allocated to you. Feel free to configure the cell below and experiment with the results!\n",
    "    \n",
    "</div> "
   ]
  },
  {
   "cell_type": "code",
   "execution_count": null,
   "id": "6319e3e3-24fa-4263-941b-1f6d25202632",
   "metadata": {
    "tags": []
   },
   "outputs": [],
   "source": [
    "# Get the least-busy backend, this step may take a while\n",
    "real_backend = service.least_busy(min_num_qubits=2, simulator=False)\n",
    "\n",
    "print(f\"The least busy backend is {real_backend.name}.\")"
   ]
  },
  {
   "attachments": {},
   "cell_type": "markdown",
   "id": "b3daf9d4-e553-41c7-852d-636e87e94272",
   "metadata": {},
   "source": [
    "Using the real backend for `Estimator`:"
   ]
  },
  {
   "cell_type": "code",
   "execution_count": null,
   "id": "ef4f5b6e-5bd0-4257-9dc6-5e32dafb5cd0",
   "metadata": {
    "tags": []
   },
   "outputs": [],
   "source": [
    "with Session(service=service, backend=real_backend):    \n",
    "    estimator = Estimator(options=options)\n",
    "    job = estimator.run(circuits=[qc]*len(phases), parameter_values=individual_phases, observables=[ZZ]*len(phases))\n",
    "    print(f\"First job ID: {job.job_id()}\")\n",
    "    \n",
    "    estimator = Estimator(options=options_with_em)\n",
    "    job = estimator.run(circuits=[qc]*len(phases), parameter_values=individual_phases, observables=[ZZ]*len(phases))\n",
    "    print(f\"Second job ID: {job.job_id()}\")"
   ]
  },
  {
   "cell_type": "code",
   "execution_count": null,
   "id": "62a6fcad-16ac-4288-a1c0-2970afd76f81",
   "metadata": {
    "tags": []
   },
   "outputs": [],
   "source": [
    "#Get job results\n",
    "job = service.job('place first job ID here')\n",
    "param_results = job.result()\n",
    "exp_values = param_results.values\n",
    "\n",
    "job_with_em = service.job('place second job ID here')\n",
    "param_results_with_em = job_with_em.result()\n",
    "exp_values_with_em = param_results_with_em.values"
   ]
  },
  {
   "attachments": {},
   "cell_type": "markdown",
   "id": "8a6b7aae-1300-403f-802d-4366d17c1319",
   "metadata": {},
   "source": [
    "While your jobs are running, you can monitor them! Simply copy the Job ID printed out for you for one of the runs and enter it into the search bar **[here](https://quantum-computing.ibm.com/jobs)**! Make sure you are logged into the IBM Quantum Platform to access this page. "
   ]
  },
  {
   "cell_type": "code",
   "execution_count": null,
   "id": "ef101938-b6c7-4f54-8fa9-418c5540bd76",
   "metadata": {
    "tags": []
   },
   "outputs": [],
   "source": [
    "plt.plot(phases, exp_values, 'o', label='noisy')\n",
    "plt.plot(phases, exp_values_with_em, 'o', label='mitigated')\n",
    "plt.plot(phases, 2*np.sin(phases/2,)**2-1, label='theory')\n",
    "plt.xlabel('Phase')\n",
    "plt.ylabel('Expectation')\n",
    "plt.legend();"
   ]
  },
  {
   "attachments": {},
   "cell_type": "markdown",
   "id": "1cbb2b3c-aa1c-4a12-9462-d9528651640b",
   "metadata": {},
   "source": [
    "# References\n",
    "- [1] **[Getting Started - Qiskit Research](https://github.com/qiskit-research/qiskit-research/blob/main/docs/getting_started.ipynb)**\n",
    "- [2] **[Error mitigation for short-depth quantum circuits - Kristan Temme, Sergey Bravyi and Jay M. Gambetta](https://arxiv.org/pdf/1612.02058.pdf)**\n",
    "- [3] **[Configure error mitigation](https://qiskit.org/ecosystem/ibm-runtime/how_to/error-mitigation.html)**"
   ]
  },
  {
   "cell_type": "code",
   "execution_count": 1,
   "id": "184a135d",
   "metadata": {
    "tags": []
   },
   "outputs": [
    {
     "data": {
      "text/html": [
       "<h3>Version Information</h3><table><tr><th>Qiskit Software</th><th>Version</th></tr><tr><td><code>qiskit-terra</code></td><td>0.24.1</td></tr><tr><td><code>qiskit-aer</code></td><td>0.12.1</td></tr><tr><td><code>qiskit-ibmq-provider</code></td><td>0.20.2</td></tr><tr><td><code>qiskit</code></td><td>0.43.2</td></tr><tr><td><code>qiskit-nature</code></td><td>0.6.2</td></tr><tr><td><code>qiskit-finance</code></td><td>0.3.4</td></tr><tr><td><code>qiskit-optimization</code></td><td>0.5.0</td></tr><tr><td><code>qiskit-machine-learning</code></td><td>0.6.1</td></tr><tr><th>System information</th></tr><tr><td>Python version</td><td>3.10.8</td></tr><tr><td>Python compiler</td><td>GCC 10.4.0</td></tr><tr><td>Python build</td><td>main, Nov 22 2022 08:26:04</td></tr><tr><td>OS</td><td>Linux</td></tr><tr><td>CPUs</td><td>8</td></tr><tr><td>Memory (Gb)</td><td>31.211322784423828</td></tr><tr><td colspan='2'>Wed Jul 12 04:36:16 2023 UTC</td></tr></table>"
      ],
      "text/plain": [
       "<IPython.core.display.HTML object>"
      ]
     },
     "metadata": {},
     "output_type": "display_data"
    }
   ],
   "source": [
    "from qiskit.tools.jupyter import *\n",
    "%qiskit_version_table"
   ]
  }
 ],
 "metadata": {
  "kernelspec": {
   "display_name": "Python 3 (ipykernel)",
   "language": "python",
   "name": "python3"
  },
  "language_info": {
   "codemirror_mode": {
    "name": "ipython",
    "version": 3
   },
   "file_extension": ".py",
   "mimetype": "text/x-python",
   "name": "python",
   "nbconvert_exporter": "python",
   "pygments_lexer": "ipython3",
   "version": "3.10.8"
  },
  "vscode": {
   "interpreter": {
    "hash": "2314985414265184cbcbf39283c3ac2af8a6b2659fa88be3910ade054ec8b29d"
   }
  },
  "widgets": {
   "application/vnd.jupyter.widget-state+json": {
    "state": {
     "106f5a473c7940a7a32e5a4c36b03b26": {
      "model_module": "@jupyter-widgets/controls",
      "model_module_version": "2.0.0",
      "model_name": "HBoxModel",
      "state": {
       "children": [
        "IPY_MODEL_ecd4c505b4954dc8ab510a6d2cefe7ad",
        "IPY_MODEL_8ccacb4ee6644f1e8dfdd809fe5b28b0",
        "IPY_MODEL_1cb499addaf5456e9c7e6402d664247f",
        "IPY_MODEL_9275d435ca99492393c311f738733385",
        "IPY_MODEL_a14b92773e484d3a95f92280575d1052"
       ],
       "layout": "IPY_MODEL_63d1e1533c7647c88f5e027c7f22fc01"
      }
     },
     "18ab7cec7c994c919bda4c561a538e55": {
      "model_module": "@jupyter-widgets/controls",
      "model_module_version": "2.0.0",
      "model_name": "HTMLStyleModel",
      "state": {
       "description_width": "",
       "font_size": null,
       "text_color": null
      }
     },
     "1cb499addaf5456e9c7e6402d664247f": {
      "model_module": "@jupyter-widgets/controls",
      "model_module_version": "2.0.0",
      "model_name": "HTMLModel",
      "state": {
       "layout": "IPY_MODEL_267063972f98462b903b04e80054da8b",
       "style": "IPY_MODEL_a155f68cb75a40cc9bece01a2733f62e",
       "value": "<h5>Status</h5>"
      }
     },
     "22156f77e1eb435fae2439f275e6e1be": {
      "model_module": "@jupyter-widgets/base",
      "model_module_version": "2.0.0",
      "model_name": "LayoutModel",
      "state": {
       "width": "190px"
      }
     },
     "243eaa616bdb49fe9bfbbb687965af3e": {
      "model_module": "@jupyter-widgets/controls",
      "model_module_version": "2.0.0",
      "model_name": "HTMLStyleModel",
      "state": {
       "description_width": "",
       "font_size": null,
       "text_color": null
      }
     },
     "267063972f98462b903b04e80054da8b": {
      "model_module": "@jupyter-widgets/base",
      "model_module_version": "2.0.0",
      "model_name": "LayoutModel",
      "state": {
       "width": "95px"
      }
     },
     "2f838f75a38b4b2eaf3f2f45d1aaa6dd": {
      "model_module": "@jupyter-widgets/controls",
      "model_module_version": "2.0.0",
      "model_name": "GridBoxModel",
      "state": {
       "children": [
        "IPY_MODEL_adbeaeff15a540fd8cfb09ab242e0577"
       ],
       "layout": "IPY_MODEL_73880c531b1140aab2baba2789e4b0e4"
      }
     },
     "32a8865864e34ad29b7b83e65df1c666": {
      "model_module": "@jupyter-widgets/base",
      "model_module_version": "2.0.0",
      "model_name": "LayoutModel",
      "state": {
       "grid_area": "right",
       "padding": "0px 0px 0px 0px",
       "width": "70px"
      }
     },
     "446976232f8749aeb7d0407469ad7025": {
      "model_module": "@jupyter-widgets/controls",
      "model_module_version": "2.0.0",
      "model_name": "HTMLStyleModel",
      "state": {
       "description_width": "",
       "font_size": null,
       "text_color": null
      }
     },
     "45fb2f3111224340a6e3eadf7ce0b0c3": {
      "model_module": "@jupyter-widgets/controls",
      "model_module_version": "2.0.0",
      "model_name": "HTMLModel",
      "state": {
       "layout": "IPY_MODEL_daf43e8b5fbd4ddea15a42955b92df50",
       "style": "IPY_MODEL_446976232f8749aeb7d0407469ad7025",
       "value": "<p style='font-family: IBM Plex Sans, Arial, Helvetica, sans-serif; font-size: 20px; font-weight: medium;'>Circuit Properties</p>"
      }
     },
     "639c5f72f32e4e619ccca4608495ade7": {
      "model_module": "@jupyter-widgets/controls",
      "model_module_version": "2.0.0",
      "model_name": "ButtonStyleModel",
      "state": {
       "font_family": null,
       "font_size": null,
       "font_style": null,
       "font_variant": null,
       "font_weight": null,
       "text_color": null,
       "text_decoration": null
      }
     },
     "63d1e1533c7647c88f5e027c7f22fc01": {
      "model_module": "@jupyter-widgets/base",
      "model_module_version": "2.0.0",
      "model_name": "LayoutModel",
      "state": {
       "margin": "0px 0px 0px 37px",
       "width": "600px"
      }
     },
     "71b87bf858134484b9d93e3713fdcbb3": {
      "model_module": "@jupyter-widgets/base",
      "model_module_version": "2.0.0",
      "model_name": "LayoutModel",
      "state": {
       "width": "70px"
      }
     },
     "73880c531b1140aab2baba2789e4b0e4": {
      "model_module": "@jupyter-widgets/base",
      "model_module_version": "2.0.0",
      "model_name": "LayoutModel",
      "state": {
       "grid_template_areas": "\n                                       \". . . . right \"\n                                        ",
       "grid_template_columns": "20% 20% 20% 20% 20%",
       "width": "100%"
      }
     },
     "8ccacb4ee6644f1e8dfdd809fe5b28b0": {
      "model_module": "@jupyter-widgets/controls",
      "model_module_version": "2.0.0",
      "model_name": "HTMLModel",
      "state": {
       "layout": "IPY_MODEL_cb20ccbcd79e4c429652025bff6cae08",
       "style": "IPY_MODEL_c517d44276414ce6b0f3c1afbdc71319",
       "value": "<h5>Backend</h5>"
      }
     },
     "9275d435ca99492393c311f738733385": {
      "model_module": "@jupyter-widgets/controls",
      "model_module_version": "2.0.0",
      "model_name": "HTMLModel",
      "state": {
       "layout": "IPY_MODEL_71b87bf858134484b9d93e3713fdcbb3",
       "style": "IPY_MODEL_243eaa616bdb49fe9bfbbb687965af3e",
       "value": "<h5>Queue</h5>"
      }
     },
     "9a2dda626f0e49568f09c45c7c992042": {
      "model_module": "@jupyter-widgets/base",
      "model_module_version": "2.0.0",
      "model_name": "LayoutModel",
      "state": {}
     },
     "a14b92773e484d3a95f92280575d1052": {
      "model_module": "@jupyter-widgets/controls",
      "model_module_version": "2.0.0",
      "model_name": "HTMLModel",
      "state": {
       "layout": "IPY_MODEL_9a2dda626f0e49568f09c45c7c992042",
       "style": "IPY_MODEL_ea27d52c5d384d1c95af83a034a3937c",
       "value": "<h5>Message</h5>"
      }
     },
     "a155f68cb75a40cc9bece01a2733f62e": {
      "model_module": "@jupyter-widgets/controls",
      "model_module_version": "2.0.0",
      "model_name": "HTMLStyleModel",
      "state": {
       "description_width": "",
       "font_size": null,
       "text_color": null
      }
     },
     "adbeaeff15a540fd8cfb09ab242e0577": {
      "model_module": "@jupyter-widgets/controls",
      "model_module_version": "2.0.0",
      "model_name": "ButtonModel",
      "state": {
       "button_style": "primary",
       "description": "Clear",
       "layout": "IPY_MODEL_32a8865864e34ad29b7b83e65df1c666",
       "style": "IPY_MODEL_639c5f72f32e4e619ccca4608495ade7",
       "tooltip": null
      }
     },
     "c517d44276414ce6b0f3c1afbdc71319": {
      "model_module": "@jupyter-widgets/controls",
      "model_module_version": "2.0.0",
      "model_name": "HTMLStyleModel",
      "state": {
       "description_width": "",
       "font_size": null,
       "text_color": null
      }
     },
     "cb20ccbcd79e4c429652025bff6cae08": {
      "model_module": "@jupyter-widgets/base",
      "model_module_version": "2.0.0",
      "model_name": "LayoutModel",
      "state": {
       "width": "145px"
      }
     },
     "daf43e8b5fbd4ddea15a42955b92df50": {
      "model_module": "@jupyter-widgets/base",
      "model_module_version": "2.0.0",
      "model_name": "LayoutModel",
      "state": {
       "margin": "0px 0px 10px 0px"
      }
     },
     "ea27d52c5d384d1c95af83a034a3937c": {
      "model_module": "@jupyter-widgets/controls",
      "model_module_version": "2.0.0",
      "model_name": "HTMLStyleModel",
      "state": {
       "description_width": "",
       "font_size": null,
       "text_color": null
      }
     },
     "ecd4c505b4954dc8ab510a6d2cefe7ad": {
      "model_module": "@jupyter-widgets/controls",
      "model_module_version": "2.0.0",
      "model_name": "HTMLModel",
      "state": {
       "layout": "IPY_MODEL_22156f77e1eb435fae2439f275e6e1be",
       "style": "IPY_MODEL_18ab7cec7c994c919bda4c561a538e55",
       "value": "<h5>Job ID</h5>"
      }
     }
    },
    "version_major": 2,
    "version_minor": 0
   }
  }
 },
 "nbformat": 4,
 "nbformat_minor": 5
}
